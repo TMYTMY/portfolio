{
 "cells": [
  {
   "cell_type": "code",
   "execution_count": null,
   "metadata": {},
   "outputs": [],
   "source": [
    "import pandas as pd\n",
    "import numpy as np\n",
    "import matplotlib.pyplot as plt\n",
    "import matplotlib as matplot\n",
    "import seaborn as sns\n",
    "%matplotlib inline"
   ]
  },
  {
   "cell_type": "code",
   "execution_count": null,
   "metadata": {},
   "outputs": [],
   "source": [
    "data = pd.read_csv('employee_query.csv', index_col=None)"
   ]
  },
  {
   "cell_type": "code",
   "execution_count": null,
   "metadata": {},
   "outputs": [],
   "source": [
    "data.head()"
   ]
  },
  {
   "cell_type": "code",
   "execution_count": null,
   "metadata": {},
   "outputs": [],
   "source": [
    "data = data.rename(columns={'satisfaction_level': 'satisfaction', \n",
    "                        'last_evaluation': 'evaluation',\n",
    "                        'number_project': 'project',\n",
    "                        'average_montly_hours': 'monthlyHours',\n",
    "                        'time_spend_company': 'years',\n",
    "                        'Work_accident': 'accident',\n",
    "                        'left' : 'turnover',\n",
    "                        'promotion_last_5years':'promotion',\n",
    "                        'sales' : 'department',                        \n",
    "                        })"
   ]
  },
  {
   "cell_type": "code",
   "execution_count": null,
   "metadata": {},
   "outputs": [],
   "source": [
    "turn = data['turnover']\n",
    "data.drop(labels=['turnover'], axis=1,inplace = True)\n",
    "data.insert(0, 'turnover', turn)\n",
    "data.head()"
   ]
  },
  {
   "cell_type": "code",
   "execution_count": null,
   "metadata": {
    "scrolled": false
   },
   "outputs": [],
   "source": [
    "data.dtypes"
   ]
  },
  {
   "cell_type": "markdown",
   "metadata": {},
   "source": [
    "# Exploratory data analysis"
   ]
  },
  {
   "cell_type": "markdown",
   "metadata": {},
   "source": [
    "收集回來的員工意見問卷總共有15000份<br>\n",
    "<br>\n",
    "satisfaction&nbsp; - &nbsp;  員工滿意度<br>\n",
    "evaluation &nbsp;  - &nbsp;  公司對員工的評分<br>\n",
    "project&nbsp; - &nbsp;  員工在任內接參與的項目<br>\n",
    "monthlyHours&nbsp; - &nbsp;  員工每個月在公司上班的時數<br>\n",
    "years    &nbsp;    -&nbsp;   員工在公司的任期<br>\n",
    "accident &nbsp;    -  &nbsp; 員工曾否在任內發生意外<br>\n",
    "turnover  &nbsp;   -  &nbsp; 員工是否離職<br>\n",
    "promotion &nbsp;   -&nbsp;   在近期5年員工是否有進升<br>\n",
    "department&nbsp;   - &nbsp;  員工所在的部門<br>\n",
    "salary   &nbsp;    -&nbsp;   員工的薪金(已low,medium,high表示)"
   ]
  },
  {
   "cell_type": "markdown",
   "metadata": {},
   "source": [
    "# 先看看員工的離職比例"
   ]
  },
  {
   "cell_type": "code",
   "execution_count": null,
   "metadata": {},
   "outputs": [],
   "source": [
    "turnover_rate = data.turnover.value_counts() / len(data)\n",
    "turnover_rate"
   ]
  },
  {
   "cell_type": "markdown",
   "metadata": {},
   "source": [
    "總共有76%的員工還在職\n",
    "24%的員工已經離職"
   ]
  },
  {
   "cell_type": "code",
   "execution_count": null,
   "metadata": {},
   "outputs": [],
   "source": [
    "turnover_Summary = data.groupby('turnover')\n",
    "turnover_Summary.mean()"
   ]
  },
  {
   "cell_type": "markdown",
   "metadata": {},
   "source": [
    "# Correlation Matrix & Heatmap"
   ]
  },
  {
   "cell_type": "markdown",
   "metadata": {},
   "source": [
    "Correlation Matrix & Heatmap<br>\n",
    "可以快速查看員工離職的是否和其他的參數有關"
   ]
  },
  {
   "cell_type": "code",
   "execution_count": null,
   "metadata": {},
   "outputs": [],
   "source": [
    "corr = data.corr()\n",
    "corr = (corr)\n",
    "sns.heatmap(corr, \n",
    "            xticklabels=corr.columns.values,\n",
    "            yticklabels=corr.columns.values)\n",
    "\n",
    "corr"
   ]
  },
  {
   "cell_type": "markdown",
   "metadata": {},
   "source": [
    "# Salary V.S. Turnover"
   ]
  },
  {
   "cell_type": "markdown",
   "metadata": {},
   "source": [
    " 薪金和的員工的離職是否有關?<p>\n",
    " \n",
    " 從下圖可以看出低薪酬的員工有較高的離職意向"
   ]
  },
  {
   "cell_type": "code",
   "execution_count": null,
   "metadata": {},
   "outputs": [],
   "source": [
    "f, ax = plt.subplots(figsize=(15, 4))\n",
    "sns.countplot(y=\"salary\", hue='turnover', data=data).set_title('Employee Salary Turnover Distribution');"
   ]
  },
  {
   "cell_type": "markdown",
   "metadata": {},
   "source": [
    "# Department V.S. Turnover"
   ]
  },
  {
   "cell_type": "markdown",
   "metadata": {},
   "source": [
    "部門分佈"
   ]
  },
  {
   "cell_type": "code",
   "execution_count": null,
   "metadata": {},
   "outputs": [],
   "source": [
    "sns.countplot(x='department', data=data).set_title('Employee Department Distribution');\n",
    " \n",
    "# Rotate x-labels\n",
    "plt.xticks(rotation=-45)"
   ]
  },
  {
   "cell_type": "markdown",
   "metadata": {},
   "source": [
    "不同部門的離職統計<p>\n",
    "\n",
    "我們發現在銷售部門的員工有較高的離職"
   ]
  },
  {
   "cell_type": "code",
   "execution_count": null,
   "metadata": {},
   "outputs": [],
   "source": [
    "f, ax = plt.subplots(figsize=(15, 5))\n",
    "sns.countplot(y=\"department\", hue='turnover', data=data).set_title('Employee Department Turnover Distribution');"
   ]
  },
  {
   "cell_type": "markdown",
   "metadata": {},
   "source": [
    "# Project Count V.S. Turnover"
   ]
  },
  {
   "cell_type": "markdown",
   "metadata": {},
   "source": [
    "員工參與項目較少,也會有較高的離職率<p>\n",
    "但是要留意的時,參與率較高的也有離職的意向(2,6,7)"
   ]
  },
  {
   "cell_type": "code",
   "execution_count": null,
   "metadata": {},
   "outputs": [],
   "source": [
    "fig = plt.figure(figsize=(18,5))\n",
    "ax = sns.barplot(x=\"project\", y=\"project\", hue=\"turnover\", data=data, estimator=lambda x: len(x) / len(data) * 100)\n",
    "ax.set(ylabel=\"Percent\")"
   ]
  },
  {
   "cell_type": "markdown",
   "metadata": {},
   "source": [
    "# Evaluation V.S. Turnover"
   ]
  },
  {
   "cell_type": "markdown",
   "metadata": {},
   "source": [
    "公司評分對於員工會有影響?<p>\n",
    "\n",
    "公司給予員工較低的評分,令員工離職<br>\n",
    "但同時給予較高的評分,也有不少的員工離職<br>\n",
    "給予0.6-0.8評分的員工離職率是最低"
   ]
  },
  {
   "cell_type": "code",
   "execution_count": null,
   "metadata": {},
   "outputs": [],
   "source": [
    "fig = plt.figure(figsize=(18,5),)\n",
    "ax=sns.kdeplot(data.loc[(data['turnover'] == 1),'evaluation'] , color='r',shade=True, label='turnover')\n",
    "ax=sns.kdeplot(data.loc[(data['turnover'] == 0),'evaluation'] , color='b',shade=True,label='no turnover')\n",
    "ax.set(xlabel='Employee Evaluation', ylabel='Frequency')\n",
    "plt.title('Employee Evaluation Distribution - Turnover V.S. No Turnover')"
   ]
  },
  {
   "cell_type": "markdown",
   "metadata": {},
   "source": [
    "# Monthly Hours V.S.Turnover"
   ]
  },
  {
   "cell_type": "markdown",
   "metadata": {},
   "source": [
    "上班時數的影響<p>\n",
    "    \n",
    "上班時數超過250小時和上班時數少於150小時會有較高的離職率"
   ]
  },
  {
   "cell_type": "code",
   "execution_count": null,
   "metadata": {},
   "outputs": [],
   "source": [
    "fig = plt.figure(figsize=(18,5))\n",
    "ax=sns.kdeplot(data.loc[(data['turnover'] == 1),'monthlyHours'] , color='r',shade=True, label='turnover')\n",
    "ax=sns.kdeplot(data.loc[(data['turnover'] == 0),'monthlyHours'] , color='b',shade=True, label='no turnover')\n",
    "ax.set(xlabel='Employee Average Monthly Hours', ylabel='Frequency')\n",
    "plt.title('Employee AverageMonthly Hours Distribution - Turnover V.S. No Turnover')"
   ]
  },
  {
   "cell_type": "markdown",
   "metadata": {},
   "source": [
    "# Satisfaction V.S. Turnover"
   ]
  },
  {
   "cell_type": "markdown",
   "metadata": {},
   "source": [
    "員工的滿意度<p>\n",
    "    \n",
    "過底的滿意度0.1\n",
    "底滿意度0.4\n",
    "高滿意度0.8也會令員工離職"
   ]
  },
  {
   "cell_type": "code",
   "execution_count": null,
   "metadata": {},
   "outputs": [],
   "source": [
    "fig = plt.figure(figsize=(18,5))\n",
    "ax=sns.kdeplot(data.loc[(data['turnover'] == 1),'satisfaction'] , color='r',shade=True, label='turnover')\n",
    "ax=sns.kdeplot(data.loc[(data['turnover'] == 0),'satisfaction'] , color='b',shade=True, label='no turnover')\n",
    "plt.title('Employee Satisfaction Distribution - Turnover V.S. No Turnover')\n"
   ]
  },
  {
   "cell_type": "markdown",
   "metadata": {},
   "source": [
    "# Years V.S.Turnover "
   ]
  },
  {
   "cell_type": "markdown",
   "metadata": {},
   "source": [
    "年資的影響<p>\n",
    "\n",
    "有4-5年資的員工是最多人離開,年資去到5年是一個關鍵的位置,5年過後離職的人數便會下降"
   ]
  },
  {
   "cell_type": "code",
   "execution_count": null,
   "metadata": {},
   "outputs": [],
   "source": [
    "fig = plt.figure(figsize=(15,4))\n",
    "ax = sns.barplot(x=\"years\", y=\"years\", hue=\"turnover\", data=data, estimator=lambda x: len(x) / len(data) * 100)\n",
    "ax.set(ylabel=\"Percent\")"
   ]
  },
  {
   "cell_type": "markdown",
   "metadata": {},
   "source": [
    "# Machine Learning and Prediction"
   ]
  },
  {
   "cell_type": "code",
   "execution_count": null,
   "metadata": {},
   "outputs": [],
   "source": [
    "from sklearn.linear_model import LogisticRegression\n",
    "from sklearn.preprocessing import LabelEncoder\n",
    "from sklearn.model_selection import train_test_split\n",
    "from sklearn.metrics import accuracy_score, classification_report, precision_score, recall_score, confusion_matrix, precision_recall_curve\n",
    "from sklearn.preprocessing import RobustScaler"
   ]
  },
  {
   "cell_type": "code",
   "execution_count": null,
   "metadata": {},
   "outputs": [],
   "source": [
    "data['int'] = 1\n",
    "indep_var = ['satisfaction', 'evaluation', 'years', 'int', 'turnover']\n",
    "data = data[indep_var]"
   ]
  },
  {
   "cell_type": "code",
   "execution_count": null,
   "metadata": {},
   "outputs": [],
   "source": [
    "data.head()"
   ]
  },
  {
   "cell_type": "code",
   "execution_count": null,
   "metadata": {},
   "outputs": [],
   "source": [
    "target_name = 'turnover'\n",
    "X = data.drop('turnover', axis=1)"
   ]
  },
  {
   "cell_type": "code",
   "execution_count": null,
   "metadata": {},
   "outputs": [],
   "source": [
    "y=data[target_name]\n",
    "X_train, X_test, y_train, y_test = train_test_split(X,y,test_size=0.15, random_state=456, stratify=y)\n",
    "\n",
    "X_train.head()"
   ]
  },
  {
   "cell_type": "code",
   "execution_count": null,
   "metadata": {},
   "outputs": [],
   "source": [
    "import statsmodels.api as sm\n",
    "iv = ['satisfaction','evaluation','years', 'int']\n",
    "logReg = sm.Logit(y_train, X_train[iv])\n",
    "answer = logReg.fit()\n",
    "\n",
    "answer.summary\n",
    "answer.params"
   ]
  },
  {
   "cell_type": "code",
   "execution_count": null,
   "metadata": {},
   "outputs": [],
   "source": [
    "coef = answer.params\n",
    "def y (coef, Satisfaction, Evaluation, Years) : \n",
    "    return coef[3] + coef[0]*Satisfaction + coef[1]*Evaluation + coef[2]*Years\n",
    "\n"
   ]
  },
  {
   "cell_type": "markdown",
   "metadata": {},
   "source": [
    "# Prediction"
   ]
  },
  {
   "cell_type": "markdown",
   "metadata": {},
   "source": [
    "透過Machine Learning,我們可以得出一條公式<br>\n",
    "該公式我們可以預測員工會否離職<p>\n",
    "假設有三位員分別是<br>\n",
    "滿意度為50%,公司評分為70%,已入職2年<p>\n",
    "滿意度為70%,公司評分為50%,已入職1年<p>\n",
    "滿意度為30%,公司評分為70%,已入職5年<p>\n",
    "會有多少機率離開公司?"
   ]
  },
  {
   "cell_type": "code",
   "execution_count": null,
   "metadata": {},
   "outputs": [],
   "source": [
    "y1 = y(coef, 0.5, 0.7, 2)\n",
    "p1 = np.exp(y1) / (1+np.exp(y1))\n",
    "\n",
    "y2 = y(coef, 0.7, 0.5, 1)\n",
    "p2 = np.exp(y2) / (1+np.exp(y2))\n",
    "\n",
    "y3 = y(coef, 0.3, 0.7, 5)\n",
    "p3 = np.exp(y3) / (1+np.exp(y3))\n",
    "\n",
    "print(p1)\n",
    "print(p2)\n",
    "print(p3)"
   ]
  },
  {
   "cell_type": "markdown",
   "metadata": {},
   "source": [
    "員工A有22%機會離開公司<br>\n",
    "員工B有10%機會離開公司<br>\n",
    "員工C有51%機會離開公司<br>"
   ]
  }
 ],
 "metadata": {
  "kernelspec": {
   "display_name": "Python 3",
   "language": "python",
   "name": "python3"
  },
  "language_info": {
   "codemirror_mode": {
    "name": "ipython",
    "version": 3
   },
   "file_extension": ".py",
   "mimetype": "text/x-python",
   "name": "python",
   "nbconvert_exporter": "python",
   "pygments_lexer": "ipython3",
   "version": "3.6.3"
  }
 },
 "nbformat": 4,
 "nbformat_minor": 2
}
